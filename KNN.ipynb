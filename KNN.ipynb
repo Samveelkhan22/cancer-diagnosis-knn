{
  "nbformat": 4,
  "nbformat_minor": 0,
  "metadata": {
    "colab": {
      "provenance": []
    },
    "kernelspec": {
      "name": "python3",
      "display_name": "Python 3"
    },
    "language_info": {
      "name": "python"
    }
  },
  "cells": [
    {
      "cell_type": "code",
      "execution_count": 4,
      "metadata": {
        "colab": {
          "base_uri": "https://localhost:8080/"
        },
        "id": "EGFdjgaC_vqH",
        "outputId": "b4c733a4-e1c1-4c4f-eeac-a80ff703d3a1"
      },
      "outputs": [
        {
          "output_type": "stream",
          "name": "stdout",
          "text": [
            "Skipping invalid line: 228780_at\t203824_at\t209847_at\t219271_at\t228912_at\t218687_s_at\t205799_s_at\t201839_s_at\t203903_s_at\t206430_at\t201884_at\t209211_at\t212925_at\t215046_at\t205506_at\t202950_at\t222291_at\t237328_at\t214898_x_at\t228256_s_at\ttissue\n",
            "Skipping invalid line: 228780_at\t203824_at\t209847_at\t219271_at\t228912_at\t218687_s_at\t205799_s_at\t201839_s_at\t203903_s_at\t206430_at\t201884_at\t209211_at\t212925_at\t215046_at\t205506_at\t202950_at\t222291_at\t237328_at\t214898_x_at\t228256_s_at\n",
            "Predictions saved to predictions.txt\n"
          ]
        }
      ],
      "source": [
        "# Import necessary libraries\n",
        "import numpy as np\n",
        "import pandas as pd\n",
        "from collections import Counter\n",
        "\n",
        "# Load and preprocess data\n",
        "def load_data(file_path, has_labels=True):\n",
        "    \"\"\"\n",
        "    Load data from a text file.\n",
        "    Parameters:\n",
        "        file_path: Path to the file.\n",
        "        has_labels: Whether the data includes labels (last column).\n",
        "    Returns:\n",
        "        features: Numpy array of feature values.\n",
        "        labels: List of labels (if applicable).\n",
        "    \"\"\"\n",
        "    data = []\n",
        "    labels = []\n",
        "    with open(file_path, 'r') as file:\n",
        "        for line in file:\n",
        "            values = line.strip().split()\n",
        "            try:\n",
        "                # Skip the first column (gene identifiers) and parse features\n",
        "                features = list(map(float, values[1:-1])) if has_labels else list(map(float, values[1:]))\n",
        "                data.append(features)\n",
        "                if has_labels:\n",
        "                    labels.append(values[-1])  # Extract the label from the last column\n",
        "            except ValueError:\n",
        "                print(f\"Skipping invalid line: {line.strip()}\")\n",
        "    return np.array(data), labels\n",
        "\n",
        "# Compute Euclidean distance\n",
        "def euclidean_distance(point1, point2):\n",
        "    \"\"\"\n",
        "    Compute the Euclidean distance between two points.\n",
        "    Parameters:\n",
        "        point1, point2: Numpy arrays of the points.\n",
        "    Returns:\n",
        "        Euclidean distance as a float.\n",
        "    \"\"\"\n",
        "    return np.sqrt(np.sum((point1 - point2) ** 2))\n",
        "\n",
        "# Predict the label using KNN\n",
        "def predict_label(test_point, train_data, train_labels, k):\n",
        "    \"\"\"\n",
        "    Predict the label for a test point based on the K-nearest neighbors.\n",
        "    Parameters:\n",
        "        test_point: Features of the test point.\n",
        "        train_data: Features of training data.\n",
        "        train_labels: Labels of training data.\n",
        "        k: Number of nearest neighbors to consider.\n",
        "    Returns:\n",
        "        Predicted label as a string.\n",
        "    \"\"\"\n",
        "    # Calculate distances from the test point to all training points\n",
        "    distances = [(euclidean_distance(test_point, train_data[i]), train_labels[i])\n",
        "                 for i in range(len(train_data))]\n",
        "    distances.sort(key=lambda x: x[0])  # Sort by distance\n",
        "    k_nearest_labels = [label for _, label in distances[:k]]  # Get labels of k nearest neighbors\n",
        "    most_common = Counter(k_nearest_labels).most_common(1)  # Find the most common label\n",
        "    return most_common[0][0]\n",
        "\n",
        "# KNN Implementation\n",
        "def knn(train_file, test_file, k, output_file):\n",
        "    \"\"\"\n",
        "    Main KNN function to predict labels for the test data.\n",
        "    Parameters:\n",
        "        train_file: Path to training data file.\n",
        "        test_file: Path to test data file.\n",
        "        k: Number of neighbors to use.\n",
        "        output_file: File to save the predictions.\n",
        "    \"\"\"\n",
        "    # Load data\n",
        "    train_data, train_labels = load_data(train_file, has_labels=True)\n",
        "    test_data, _ = load_data(test_file, has_labels=False)\n",
        "\n",
        "    # Predict labels for all test points\n",
        "    predictions = [predict_label(test_point, train_data, train_labels, k) for test_point in test_data]\n",
        "\n",
        "    # Save predictions to the output file\n",
        "    with open(output_file, 'w') as file:\n",
        "        for prediction in predictions:\n",
        "            file.write(f\"{prediction}\\n\")\n",
        "    print(f\"Predictions saved to {output_file}\")\n",
        "\n",
        "# Parameters\n",
        "train_file = 'traindata.txt'  # actual path to training data\n",
        "test_file = 'testdata.txt'       # actual path to test data\n",
        "k = 3                        # Set the value of k\n",
        "output_file = 'predictions.txt'  # Output file for predictions\n",
        "\n",
        "# Run the KNN function\n",
        "knn(train_file, test_file, k, output_file)\n"
      ]
    }
  ]
}